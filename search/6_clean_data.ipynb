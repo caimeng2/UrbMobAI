{
 "cells": [
  {
   "cell_type": "code",
   "execution_count": null,
   "id": "ca22b296",
   "metadata": {
    "ExecuteTime": {
     "end_time": "2025-09-29T09:43:12.002892Z",
     "start_time": "2025-09-29T09:43:11.993098Z"
    }
   },
   "outputs": [],
   "source": [
    "import pandas as pd\n",
    "import glob"
   ]
  },
  {
   "cell_type": "code",
   "execution_count": null,
   "id": "9d45b2b6",
   "metadata": {
    "ExecuteTime": {
     "start_time": "2025-09-29T09:43:25.522Z"
    }
   },
   "outputs": [],
   "source": [
    "dfs = []\n",
    "for file in glob.glob(\"data/*.xlsx\"):\n",
    "    df = pd.read_excel(file)\n",
    "    df = df[(df[\"inaccessible\"] != 1) & (df[\"irrelevant\"] != 1)]\n",
    "    dfs.append(df)"
   ]
  },
  {
   "cell_type": "code",
   "execution_count": null,
   "id": "4eafecf9",
   "metadata": {
    "ExecuteTime": {
     "end_time": "2025-09-29T09:23:59.231258Z",
     "start_time": "2025-09-29T09:23:59.214610Z"
    }
   },
   "outputs": [],
   "source": [
    "master = pd.concat(dfs, ignore_index=True)"
   ]
  },
  {
   "cell_type": "code",
   "execution_count": null,
   "id": "990d3385",
   "metadata": {
    "ExecuteTime": {
     "end_time": "2025-09-29T09:24:00.550267Z",
     "start_time": "2025-09-29T09:24:00.534727Z"
    }
   },
   "outputs": [],
   "source": [
    "master = master.drop(columns=[\"inaccessible\", \"irrelevant\"])"
   ]
  },
  {
   "cell_type": "code",
   "execution_count": null,
   "id": "257d0ba1",
   "metadata": {
    "ExecuteTime": {
     "end_time": "2025-09-29T09:24:01.382607Z",
     "start_time": "2025-09-29T09:24:01.353445Z"
    }
   },
   "outputs": [],
   "source": [
    "master.to_csv(\"data/master20250929.csv\", index=False, encoding=\"utf-8\")"
   ]
  },
  {
   "cell_type": "code",
   "execution_count": null,
   "id": "1399bce0",
   "metadata": {
    "ExecuteTime": {
     "end_time": "2025-09-29T09:24:02.317601Z",
     "start_time": "2025-09-29T09:24:02.289670Z"
    }
   },
   "outputs": [],
   "source": [
    "master"
   ]
  },
  {
   "cell_type": "markdown",
   "id": "5338f84a",
   "metadata": {},
   "source": []
  }
 ],
 "metadata": {
  "kernelspec": {
   "display_name": "Python 3 (ipykernel)",
   "language": "python",
   "name": "python3"
  },
  "language_info": {
   "codemirror_mode": {
    "name": "ipython",
    "version": 3
   },
   "file_extension": ".py",
   "mimetype": "text/x-python",
   "name": "python",
   "nbconvert_exporter": "python",
   "pygments_lexer": "ipython3",
   "version": "3.11.9"
  },
  "toc": {
   "base_numbering": 1,
   "nav_menu": {},
   "number_sections": false,
   "sideBar": true,
   "skip_h1_title": false,
   "title_cell": "Table of Contents",
   "title_sidebar": "Contents",
   "toc_cell": false,
   "toc_position": {},
   "toc_section_display": true,
   "toc_window_display": false
  },
  "varInspector": {
   "cols": {
    "lenName": 16,
    "lenType": 16,
    "lenVar": 40
   },
   "kernels_config": {
    "python": {
     "delete_cmd_postfix": "",
     "delete_cmd_prefix": "del ",
     "library": "var_list.py",
     "varRefreshCmd": "print(var_dic_list())"
    },
    "r": {
     "delete_cmd_postfix": ") ",
     "delete_cmd_prefix": "rm(",
     "library": "var_list.r",
     "varRefreshCmd": "cat(var_dic_list()) "
    }
   },
   "types_to_exclude": [
    "module",
    "function",
    "builtin_function_or_method",
    "instance",
    "_Feature"
   ],
   "window_display": false
  }
 },
 "nbformat": 4,
 "nbformat_minor": 5
}
