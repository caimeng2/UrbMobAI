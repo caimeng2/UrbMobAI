{
 "cells": [
  {
   "cell_type": "code",
   "execution_count": null,
   "id": "de5bb3e7",
   "metadata": {
    "ExecuteTime": {
     "end_time": "2025-09-22T11:30:45.672209Z",
     "start_time": "2025-09-22T11:30:43.979505Z"
    }
   },
   "outputs": [],
   "source": [
    "import pandas as pd\n",
    "from geopy.geocoders import Nominatim\n",
    "import time\n",
    "import json\n",
    "import os"
   ]
  },
  {
   "cell_type": "code",
   "execution_count": null,
   "id": "682e679a",
   "metadata": {
    "ExecuteTime": {
     "end_time": "2025-09-22T11:30:46.906391Z",
     "start_time": "2025-09-22T11:30:46.885862Z"
    }
   },
   "outputs": [],
   "source": [
    "def process_data(source_excel):\n",
    "    \n",
    "    df = pd.read_excel(source_excel)\n",
    "    \n",
    "    df = df[(df[\"inaccessible\"] != 1) & (df[\"irrelevant\"] != 1)].copy()\n",
    "    \n",
    "    # geocode city, state, country to latitude & longitude\n",
    "    geolocator = Nominatim(user_agent=\"euumo_geocoder\")\n",
    "    \n",
    "    def geocode_row(row):\n",
    "        components = [row.get(\"city\", \"\"), row.get(\"state\", \"\"), row.get(\"country\", \"\")]\n",
    "        query = \", \".join([c for c in components if isinstance(c, str) and c.strip()])\n",
    "        try:\n",
    "            loc = geolocator.geocode(query)\n",
    "            time.sleep(1)\n",
    "            if loc:\n",
    "                return loc.latitude, loc.longitude\n",
    "        except Exception:\n",
    "            pass\n",
    "        return None, None\n",
    "    \n",
    "    coords = df.apply(geocode_row, axis=1)\n",
    "    df[\"latitude\"], df[\"longitude\"] = zip(*coords)\n",
    "    \n",
    "    # drop rows without successful geocoding\n",
    "    df = df.dropna(subset=[\"latitude\", \"longitude\"])\n",
    "    \n",
    "    # select only the required columns\n",
    "    output_cols = [\n",
    "        \"id\", \"latitude\", \"longitude\",\n",
    "        \"year\", \"city\", \"country\",\n",
    "        \"use_case\", \"mode\", \"motivation\", \n",
    "        \"stakeholder\", \"link\"\n",
    "    ]\n",
    "    df_out = df[output_cols]\n",
    "    \n",
    "    # replace NaN with None so JSON gets `null`\n",
    "    df_out = df_out.where(pd.notnull(df_out), None)\n",
    "    \n",
    "    # build the output path\n",
    "    out_dir = os.path.join(\"..\", \"UrbMobAI\", \"assets\", \"data\")\n",
    "    os.makedirs(out_dir, exist_ok=True)\n",
    "    base_name = os.path.splitext(os.path.basename(source_excel))[0]\n",
    "    output_file = os.path.join(out_dir, f\"{base_name}.json\")\n",
    "    \n",
    "    # dump to JSON\n",
    "    with open(output_file, \"w\", encoding=\"utf-8\") as fp:\n",
    "        json.dump([\n",
    "            {\n",
    "                \"type\": \"Feature\",\n",
    "                \"geometry\": {\n",
    "                    \"type\": \"Point\",\n",
    "                    \"coordinates\": [row[\"longitude\"], row[\"latitude\"]]  # [lon, lat]\n",
    "                },\n",
    "                \"properties\": {\n",
    "                    \"id\": row[\"id\"],\n",
    "                    \"city\": row[\"city\"],\n",
    "                    \"country\": row[\"country\"],\n",
    "                    \"use_case\": row[\"use_case\"],\n",
    "                    \"mode\": row[\"mode\"],\n",
    "                    \"motivation\": row[\"motivation\"],\n",
    "                    \"stakeholder\": row[\"stakeholder\"],\n",
    "                    \"link\": row[\"link\"]\n",
    "                },\n",
    "                \"year\": int(row[\"year\"])\n",
    "            }\n",
    "            for _, row in df_out.iterrows()\n",
    "        ], fp, ensure_ascii=False, indent=2)\n",
    "    \n",
    "    return output_file\n"
   ]
  },
  {
   "cell_type": "code",
   "execution_count": null,
   "id": "0e268474",
   "metadata": {
    "ExecuteTime": {
     "end_time": "2025-09-22T11:33:04.190013Z",
     "start_time": "2025-09-22T11:32:46.816290Z"
    }
   },
   "outputs": [],
   "source": [
    "source_file = \"data/cityweb20250827_check.xlsx\"\n",
    "json_file = process_data(source_file)\n",
    "print(f\"Processed data written to: {json_file}\")"
   ]
  },
  {
   "cell_type": "code",
   "execution_count": null,
   "id": "8e1fcf8f",
   "metadata": {},
   "outputs": [],
   "source": []
  }
 ],
 "metadata": {
  "kernelspec": {
   "display_name": "Python 3 (ipykernel)",
   "language": "python",
   "name": "python3"
  },
  "language_info": {
   "codemirror_mode": {
    "name": "ipython",
    "version": 3
   },
   "file_extension": ".py",
   "mimetype": "text/x-python",
   "name": "python",
   "nbconvert_exporter": "python",
   "pygments_lexer": "ipython3",
   "version": "3.11.9"
  },
  "toc": {
   "base_numbering": 1,
   "nav_menu": {},
   "number_sections": false,
   "sideBar": true,
   "skip_h1_title": false,
   "title_cell": "Table of Contents",
   "title_sidebar": "Contents",
   "toc_cell": false,
   "toc_position": {},
   "toc_section_display": true,
   "toc_window_display": false
  },
  "varInspector": {
   "cols": {
    "lenName": 16,
    "lenType": 16,
    "lenVar": 40
   },
   "kernels_config": {
    "python": {
     "delete_cmd_postfix": "",
     "delete_cmd_prefix": "del ",
     "library": "var_list.py",
     "varRefreshCmd": "print(var_dic_list())"
    },
    "r": {
     "delete_cmd_postfix": ") ",
     "delete_cmd_prefix": "rm(",
     "library": "var_list.r",
     "varRefreshCmd": "cat(var_dic_list()) "
    }
   },
   "types_to_exclude": [
    "module",
    "function",
    "builtin_function_or_method",
    "instance",
    "_Feature"
   ],
   "window_display": false
  }
 },
 "nbformat": 4,
 "nbformat_minor": 5
}
