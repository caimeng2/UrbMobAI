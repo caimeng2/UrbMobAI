{
 "cells": [
  {
   "cell_type": "code",
   "execution_count": null,
   "metadata": {
    "ExecuteTime": {
     "end_time": "2025-07-31T13:48:38.334525Z",
     "start_time": "2025-07-31T13:48:38.064750Z"
    }
   },
   "outputs": [],
   "source": [
    "import pandas as pd\n",
    "import csv\n",
    "from googleapiclient.discovery import build\n",
    "import datetime\n",
    "import math\n",
    "import time\n",
    "from IPython.display import HTML\n",
    "from openpyxl import load_workbook\n",
    "from openpyxl.worksheet.datavalidation import DataValidation"
   ]
  },
  {
   "cell_type": "code",
   "execution_count": null,
   "metadata": {
    "ExecuteTime": {
     "end_time": "2025-07-31T12:57:47.464634Z",
     "start_time": "2025-07-31T12:57:47.454845Z"
    }
   },
   "outputs": [],
   "source": [
    "# read in API key and case ID\n",
    "api_key = open('api_key.txt', 'r').read().strip()\n",
    "case_id = open('case_id.txt', 'r').read().strip()"
   ]
  },
  {
   "cell_type": "code",
   "execution_count": null,
   "metadata": {
    "ExecuteTime": {
     "end_time": "2025-07-31T12:57:48.766860Z",
     "start_time": "2025-07-31T12:57:48.750048Z"
    }
   },
   "outputs": [],
   "source": [
    "def google(search_term, api_key, case_id):\n",
    "    \"\"\"\n",
    "    Use Google Custom Search API to collect search results.\n",
    "    \n",
    "    Args:\n",
    "        search_term: search string. The maximium length is 2048 characters.\n",
    "        api_key: api key.\n",
    "        case_id: case_id.\n",
    "    Returns:\n",
    "        titlel: the title of each returned search result.\n",
    "        linkl: the link of each returned search result.\n",
    "        snippetl: the snippet of each returned search result.\n",
    "    \"\"\"\n",
    "    \n",
    "    service = build(\"customsearch\", \"v1\", developerKey=api_key)\n",
    "    result = service.cse().list(q=search_term, cx=case_id).execute()\n",
    "    est_total_num = int(result[\"searchInformation\"][\"totalResults\"])\n",
    "    titlel = []\n",
    "    linkl = []\n",
    "    snippetl = []\n",
    "    if est_total_num == 0:\n",
    "        return titlel, linkl, snippetl\n",
    "    elif est_total_num <= 10:\n",
    "        for item in result[\"items\"]:\n",
    "            titlel.append(item[\"title\"])\n",
    "            linkl.append(item[\"link\"])\n",
    "            snippetl.append(item['snippet'])\n",
    "        return titlel, linkl, snippetl\n",
    "    else:\n",
    "        for item in result[\"items\"]:\n",
    "            titlel.append(item[\"title\"])\n",
    "            linkl.append(item[\"link\"])\n",
    "            snippetl.append(item['snippet'])\n",
    "        total_page = math.ceil(est_total_num/10)\n",
    "        if total_page > 10:\n",
    "            total_page = 10\n",
    "        for page in range(1, total_page):\n",
    "            start = page * 10 + 1\n",
    "            #print(start)\n",
    "            more_result = service.cse().list(q=search_term, cx=case_id, start=start).execute()\n",
    "            new_total_num = int(more_result[\"searchInformation\"][\"totalResults\"])\n",
    "            #print(new_total_num)\n",
    "            if new_total_num == 0:\n",
    "                return titlel, linkl, snippetl\n",
    "            else:\n",
    "                for item in more_result[\"items\"]:\n",
    "                    titlel.append(item[\"title\"])\n",
    "                    linkl.append(item[\"link\"])\n",
    "                    snippetl.append(item['snippet'])\n",
    "        return titlel, linkl, snippetl"
   ]
  },
  {
   "cell_type": "code",
   "execution_count": null,
   "metadata": {
    "ExecuteTime": {
     "end_time": "2025-07-31T12:57:51.316030Z",
     "start_time": "2025-07-31T12:57:51.309575Z"
    }
   },
   "outputs": [],
   "source": [
    "# search website\n",
    "source = \"https://urban-mobility-observatory.transport.ec.europa.eu/\""
   ]
  },
  {
   "cell_type": "code",
   "execution_count": null,
   "metadata": {
    "ExecuteTime": {
     "end_time": "2025-07-31T13:30:41.059850Z",
     "start_time": "2025-07-31T13:30:41.048188Z"
    }
   },
   "outputs": [],
   "source": [
    "# define the output file name\n",
    "today_str = datetime.datetime.now().strftime(\"%Y%m%d\")\n",
    "filename = f\"data/euumo{today_str}.csv\""
   ]
  },
  {
   "cell_type": "code",
   "execution_count": null,
   "metadata": {
    "ExecuteTime": {
     "end_time": "2025-07-31T12:57:59.825895Z",
     "start_time": "2025-07-31T12:57:57.398216Z"
    }
   },
   "outputs": [],
   "source": [
    "try:\n",
    "    search_term = '\"artificial intelligence\" OR \"AI\" site:' + source\n",
    "    \n",
    "    titlel, linkl, snippetl = google(search_term, api_key, case_id)\n",
    "    \n",
    "    date_str = datetime.datetime.now().strftime(\"%Y-%m-%d\")\n",
    "    \n",
    "    with open(filename, \"a\", newline=\"\", encoding=\"utf-8\") as f:\n",
    "        writer = csv.writer(f, quoting=csv.QUOTE_MINIMAL)\n",
    "        \n",
    "        for idx, (title, link, snippet) in enumerate(zip(titlel, linkl, snippetl), start=1):\n",
    "            id_str   = f'euumo{idx:06d}'  \n",
    "            hyperlink = f'=HYPERLINK(\"{link}\", \"{link}\")'\n",
    "            writer.writerow([id_str, date_str, title, snippet, hyperlink])\n",
    "    \n",
    "    time.sleep(1)\n",
    "\n",
    "except Exception as e:\n",
    "    print(\"Error:\", e, \"— sleeping for 60s then retrying\")\n",
    "    time.sleep(60)\n",
    "    \n",
    "    # retry once\n",
    "    titlel, linkl, snippetl = google(search_term, api_key, case_id)\n",
    "    date_str = datetime.datetime.now().strftime(\"%Y-%m-%d\")\n",
    "    \n",
    "    with open(filename, \"a\", newline=\"\", encoding=\"utf-8\") as f:\n",
    "        writer = csv.writer(f, quoting=csv.QUOTE_MINIMAL)\n",
    "        for idx, (title, link, snippet) in enumerate(zip(titlel, linkl, snippetl), start=1):\n",
    "            id_str    = f'euumo{idx:06d}'\n",
    "            hyperlink = f'=HYPERLINK(\"{link}\", \"{link}\")'\n",
    "            writer.writerow([id_str, date_str, title, snippet, hyperlink])\n",
    "    \n",
    "    print(\"Done\")\n",
    "    time.sleep(1)\n"
   ]
  },
  {
   "cell_type": "code",
   "execution_count": null,
   "metadata": {
    "ExecuteTime": {
     "end_time": "2025-07-31T13:58:44.101122Z",
     "start_time": "2025-07-31T13:58:44.079892Z"
    }
   },
   "outputs": [],
   "source": [
    "df = pd.read_csv(filename, names=[\"id\", \"search_date\",\"link_title\",\"link_des\",\"link\"])"
   ]
  },
  {
   "cell_type": "code",
   "execution_count": null,
   "metadata": {
    "ExecuteTime": {
     "end_time": "2025-07-31T13:58:47.537899Z",
     "start_time": "2025-07-31T13:58:47.512822Z"
    },
    "scrolled": true
   },
   "outputs": [],
   "source": [
    "df[\"link\"] = df[\"link\"].str.extract(r'HYPERLINK\\(\"([^\"]+)\"')\n",
    "df"
   ]
  },
  {
   "cell_type": "code",
   "execution_count": null,
   "metadata": {
    "ExecuteTime": {
     "end_time": "2025-07-31T13:58:48.467002Z",
     "start_time": "2025-07-31T13:58:48.449620Z"
    }
   },
   "outputs": [],
   "source": [
    "# prepare for coding\n",
    "new_cols = [\n",
    "    \"inaccessible\",\n",
    "    \"irrelevant\",\n",
    "    \"city\",\n",
    "    \"state\",\n",
    "    \"country\",\n",
    "    \"year\",\n",
    "    \"use_case\",\n",
    "    \"mode\",\n",
    "    \"motivation\",\n",
    "    \"stakeholder\",\n",
    "    \"detail\",\n",
    "    \"note\",\n",
    "    \"other_ref\",\n",
    "    \"coder\"\n",
    "]\n",
    "\n",
    "for col in new_cols:\n",
    "    df[col] = \"\""
   ]
  },
  {
   "cell_type": "code",
   "execution_count": null,
   "metadata": {
    "ExecuteTime": {
     "end_time": "2025-07-31T13:58:49.537738Z",
     "start_time": "2025-07-31T13:58:49.500372Z"
    }
   },
   "outputs": [],
   "source": [
    "filename_check = filename.replace(\".csv\", \"_check.xlsx\")\n",
    "df.to_excel(filename_check, index=False)"
   ]
  },
  {
   "cell_type": "code",
   "execution_count": null,
   "metadata": {
    "ExecuteTime": {
     "end_time": "2025-07-31T13:58:51.388958Z",
     "start_time": "2025-07-31T13:58:51.363477Z"
    }
   },
   "outputs": [],
   "source": [
    "# set up the mode coding options\n",
    "wb = load_workbook(filename_check)\n",
    "ws = wb[\"Sheet1\"]"
   ]
  },
  {
   "cell_type": "code",
   "execution_count": null,
   "metadata": {
    "ExecuteTime": {
     "end_time": "2025-07-31T13:58:52.136033Z",
     "start_time": "2025-07-31T13:58:52.127924Z"
    }
   },
   "outputs": [],
   "source": [
    "dv = DataValidation(\n",
    "    type=\"list\",\n",
    "    formula1='\"road,rail,air,waterborne,cross_modal\"',\n",
    "    allow_blank=True\n",
    ")"
   ]
  },
  {
   "cell_type": "code",
   "execution_count": null,
   "metadata": {
    "ExecuteTime": {
     "end_time": "2025-07-31T13:58:53.407464Z",
     "start_time": "2025-07-31T13:58:53.377313Z"
    }
   },
   "outputs": [],
   "source": [
    "dv.add(\"M2:M10000\")\n",
    "ws.add_data_validation(dv)"
   ]
  },
  {
   "cell_type": "code",
   "execution_count": null,
   "metadata": {
    "ExecuteTime": {
     "end_time": "2025-07-31T13:58:54.389573Z",
     "start_time": "2025-07-31T13:58:54.364664Z"
    }
   },
   "outputs": [],
   "source": [
    "wb.save(filename_check)"
   ]
  },
  {
   "cell_type": "code",
   "execution_count": null,
   "metadata": {},
   "outputs": [],
   "source": []
  }
 ],
 "metadata": {
  "kernelspec": {
   "display_name": "Python 3 (ipykernel)",
   "language": "python",
   "name": "python3"
  },
  "language_info": {
   "codemirror_mode": {
    "name": "ipython",
    "version": 3
   },
   "file_extension": ".py",
   "mimetype": "text/x-python",
   "name": "python",
   "nbconvert_exporter": "python",
   "pygments_lexer": "ipython3",
   "version": "3.11.9"
  },
  "toc": {
   "base_numbering": 1,
   "nav_menu": {},
   "number_sections": false,
   "sideBar": true,
   "skip_h1_title": false,
   "title_cell": "Table of Contents",
   "title_sidebar": "Contents",
   "toc_cell": false,
   "toc_position": {},
   "toc_section_display": true,
   "toc_window_display": false
  },
  "varInspector": {
   "cols": {
    "lenName": 16,
    "lenType": 16,
    "lenVar": 40
   },
   "kernels_config": {
    "python": {
     "delete_cmd_postfix": "",
     "delete_cmd_prefix": "del ",
     "library": "var_list.py",
     "varRefreshCmd": "print(var_dic_list())"
    },
    "r": {
     "delete_cmd_postfix": ") ",
     "delete_cmd_prefix": "rm(",
     "library": "var_list.r",
     "varRefreshCmd": "cat(var_dic_list()) "
    }
   },
   "types_to_exclude": [
    "module",
    "function",
    "builtin_function_or_method",
    "instance",
    "_Feature"
   ],
   "window_display": false
  }
 },
 "nbformat": 4,
 "nbformat_minor": 4
}
