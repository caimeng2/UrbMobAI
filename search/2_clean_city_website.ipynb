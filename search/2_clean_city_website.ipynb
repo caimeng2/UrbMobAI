{
 "cells": [
  {
   "cell_type": "code",
   "execution_count": null,
   "metadata": {
    "ExecuteTime": {
     "end_time": "2025-08-26T10:46:44.640210Z",
     "start_time": "2025-08-26T10:46:44.533052Z"
    }
   },
   "outputs": [],
   "source": [
    "import pandas as pd\n",
    "import numpy as np\n",
    "import re\n",
    "from langdetect import detect, DetectorFactory\n",
    "from bs4 import BeautifulSoup\n",
    "import requests\n",
    "import time"
   ]
  },
  {
   "cell_type": "code",
   "execution_count": null,
   "metadata": {
    "ExecuteTime": {
     "end_time": "2025-08-26T10:38:38.262651Z",
     "start_time": "2025-08-26T10:38:37.852533Z"
    }
   },
   "outputs": [],
   "source": [
    "# avalible here: https://open-research-europe.ec.europa.eu/articles/5-241\n",
    "lex = pd.read_excel(\"FinalLexicon_02052025.xlsx\", sheet_name=\"8.Europe_and_Japan\")"
   ]
  },
  {
   "cell_type": "code",
   "execution_count": null,
   "metadata": {
    "ExecuteTime": {
     "end_time": "2025-08-26T10:38:38.295423Z",
     "start_time": "2025-08-26T10:38:38.295415Z"
    }
   },
   "outputs": [],
   "source": [
    "lex"
   ]
  },
  {
   "cell_type": "code",
   "execution_count": null,
   "metadata": {
    "ExecuteTime": {
     "end_time": "2025-08-26T10:38:38.919525Z",
     "start_time": "2025-08-26T10:38:38.873976Z"
    }
   },
   "outputs": [],
   "source": [
    "lex.columns = [c.strip() if isinstance(c, str) else c for c in lex.columns]\n",
    "\n",
    "# Strip whitespace from string values\n",
    "for col in lex.select_dtypes(include=[\"object\"]).columns:\n",
    "    lex[col] = lex[col].astype(str).str.strip().replace({\"nan\": np.nan})\n",
    "\n",
    "# Fix column name with trailing space\n",
    "if \"City_Website \" in lex.columns:\n",
    "    lex = lex.rename(columns={\"City_Website \": \"City_Website\"})\n",
    "\n",
    "# Forward fill country info where merged cells were blank\n",
    "for c in [\"Country_Name\", \"Country_ID_Number\"]:\n",
    "    if c in lex.columns:\n",
    "        lex[c] = lex[c].ffill()\n",
    "\n",
    "# Drop rows with no country and no city\n",
    "lex = lex[~(lex.get(\"City_Name\").isna() & lex.get(\"Country_Name\").isna())].copy()\n",
    "\n",
    "# Remove Japan\n",
    "europe = lex[lex[\"Country_Name\"].str.lower() != \"japan\"].copy()\n",
    "\n",
    "# Convert numeric columns\n",
    "for c in [\"Population\", \"Year\", \"Country_ID_Number\"]:\n",
    "    if c in europe.columns:\n",
    "        europe[c] = pd.to_numeric(europe[c], errors=\"coerce\").astype(\"Int64\")\n",
    "\n",
    "# Normalize URLs\n",
    "def normalize_url(u):\n",
    "    if pd.isna(u) or not isinstance(u, str) or not u:\n",
    "        return np.nan\n",
    "    u = u.strip()\n",
    "    if not re.match(r\"^https?://\", u, flags=re.I):\n",
    "        u = \"http://\" + u\n",
    "    return u\n",
    "\n",
    "if \"City_Website\" in europe.columns:\n",
    "    europe[\"City_Website\"] = europe[\"City_Website\"].apply(normalize_url)\n",
    "\n",
    "# Remove empty rows\n",
    "europe = europe[~europe[\"City_Name\"].isna()].copy()\n",
    "europe = europe[~europe[\"City_Name\"].str.isnumeric()]  # drop numeric city names like \"63\"\n",
    "#europe = europe[~europe[\"City_Name\"].str.contains(\"no city\", case=False, na=False)]  # drop \"no city above 50k\"\n",
    "\n",
    "# Reorder columns for readability\n",
    "ordered_cols = [c for c in [\n",
    "    \"Country _ID_Number\",\"Country_Name\",\"Capital\",\"City_Name\",\"State\",\n",
    "    \"Population\",\"Year\",\"City_Website\",\"Local_adm_unit\",\"Validated\",\n",
    "    \"Source\",\"Note\"\n",
    "] if c in europe.columns]\n",
    "other_cols = [c for c in europe.columns if c not in ordered_cols]\n",
    "eu = europe[ordered_cols + other_cols].reset_index(drop=True)"
   ]
  },
  {
   "cell_type": "code",
   "execution_count": null,
   "metadata": {
    "ExecuteTime": {
     "end_time": "2025-08-26T10:38:39.559350Z",
     "start_time": "2025-08-26T10:38:39.533788Z"
    }
   },
   "outputs": [],
   "source": [
    "eu"
   ]
  },
  {
   "cell_type": "code",
   "execution_count": null,
   "metadata": {
    "ExecuteTime": {
     "end_time": "2025-08-26T10:38:40.228116Z",
     "start_time": "2025-08-26T10:38:40.215874Z"
    }
   },
   "outputs": [],
   "source": [
    "eu = eu[[\"City_Name\",\"State\",\"Country_Name\",\"City_Website\"]]"
   ]
  },
  {
   "cell_type": "code",
   "execution_count": null,
   "metadata": {
    "ExecuteTime": {
     "end_time": "2025-08-26T10:38:41.270219Z",
     "start_time": "2025-08-26T10:38:41.258540Z"
    }
   },
   "outputs": [],
   "source": [
    "# Mapping: country -> (capital, official/municipal website)\n",
    "micro_map = {\n",
    "    \"Andorra\": (\"Andorra la Vella\", \"https://www.andorralavella.ad/\"),\n",
    "    \"Liechtenstein\": (\"Vaduz\", \"https://www.vaduz.li/\"),\n",
    "    \"Malta\": (\"Valletta\", np.nan),\n",
    "    \"San Marino\": (\"San Marino\", \"https://www.gov.sm/\"),      # state portal\n",
    "    \"Vatican City\": (\"Vatican City\", \"https://www.vatican.va/\"),\n",
    "}"
   ]
  },
  {
   "cell_type": "code",
   "execution_count": null,
   "metadata": {
    "ExecuteTime": {
     "end_time": "2025-08-26T10:38:54.720461Z",
     "start_time": "2025-08-26T10:38:54.695784Z"
    }
   },
   "outputs": [],
   "source": [
    "# Identify placeholder rows\n",
    "mask_placeholder = eu[\"City_Name\"].astype(str).str.contains(r\"\\bno city above 50k\\b\", case=False, na=False)\n",
    "\n",
    "# For each targeted country, replace City_Name and City_Website\n",
    "for country, (capital, url) in micro_map.items():\n",
    "    m = mask_placeholder & (eu[\"Country_Name\"].astype(str).str.strip() == country)\n",
    "    eu.loc[m, \"City_Name\"] = capital\n",
    "    eu.loc[m, \"City_Website\"] = url"
   ]
  },
  {
   "cell_type": "code",
   "execution_count": null,
   "metadata": {
    "ExecuteTime": {
     "end_time": "2025-08-26T10:46:53.027896Z",
     "start_time": "2025-08-26T10:46:53.010784Z"
    }
   },
   "outputs": [],
   "source": [
    "eu"
   ]
  },
  {
   "cell_type": "code",
   "execution_count": null,
   "metadata": {
    "ExecuteTime": {
     "end_time": "2025-08-26T10:46:56.550100Z",
     "start_time": "2025-08-26T10:46:56.541340Z"
    }
   },
   "outputs": [],
   "source": [
    "DetectorFactory.seed = 0  # deterministic"
   ]
  },
  {
   "cell_type": "code",
   "execution_count": null,
   "metadata": {
    "ExecuteTime": {
     "end_time": "2025-08-26T10:46:57.938335Z",
     "start_time": "2025-08-26T10:46:57.926330Z"
    }
   },
   "outputs": [],
   "source": [
    "def fetch_lang_from_site(url, timeout=10):\n",
    "    if pd.isna(url) or not url: \n",
    "        return None\n",
    "    try:\n",
    "        r = requests.get(url, timeout=timeout, headers={\"User-Agent\": \"Mozilla/5.0\"})\n",
    "        r.raise_for_status()\n",
    "        # 1) Try <html lang=\"xx\">\n",
    "        soup = BeautifulSoup(r.text, \"html.parser\")\n",
    "        html_tag = soup.find(\"html\")\n",
    "        if html_tag and html_tag.get(\"lang\"):\n",
    "            return html_tag.get(\"lang\").split(\"-\")[0].lower()\n",
    "        # 2) Fallback: detect from text\n",
    "        text = soup.get_text(separator=\" \", strip=True)\n",
    "        if text:\n",
    "            return detect(text)\n",
    "    except Exception:\n",
    "        return None\n",
    "    return None"
   ]
  },
  {
   "cell_type": "code",
   "execution_count": null,
   "metadata": {
    "ExecuteTime": {
     "end_time": "2025-08-26T10:46:58.731339Z",
     "start_time": "2025-08-26T10:46:58.713660Z"
    }
   },
   "outputs": [],
   "source": [
    "def language_name_from_code(code):\n",
    "    m = {\n",
    "        \"en\":\"English\",\"de\":\"German\",\"fr\":\"French\",\"es\":\"Spanish\",\"it\":\"Italian\",\"pt\":\"Portuguese\",\n",
    "        \"nl\":\"Dutch\",\"da\":\"Danish\",\"sv\":\"Swedish\",\"no\":\"Norwegian\",\"fi\":\"Finnish\",\"et\":\"Estonian\",\n",
    "        \"lv\":\"Latvian\",\"lt\":\"Lithuanian\",\"pl\":\"Polish\",\"cs\":\"Czech\",\"sk\":\"Slovak\",\"hu\":\"Hungarian\",\n",
    "        \"ro\":\"Romanian\",\"bg\":\"Bulgarian\",\"el\":\"Greek\",\"sq\":\"Albanian\",\"mk\":\"Macedonian\",\"sr\":\"Serbian\",\n",
    "        \"hr\":\"Croatian\",\"bs\":\"Bosnian\",\"sl\":\"Slovenian\",\"uk\":\"Ukrainian\",\"be\":\"Belarusian\",\"ru\":\"Russian\",\n",
    "        \"is\":\"Icelandic\",\"mt\":\"Maltese\",\"ca\":\"Catalan\",\"eu\":\"Basque\",\"gl\":\"Galician\",\"ga\":\"Irish\",\"cy\":\"Welsh\"\n",
    "    }\n",
    "    return m.get(code, None)\n",
    "\n",
    "ai_translations = {\n",
    "    \"English\":\"artificial intelligence\",\"German\":\"künstliche Intelligenz\",\"French\":\"intelligence artificielle\",\n",
    "    \"Spanish\":\"inteligencia artificial\",\"Italian\":\"intelligenza artificiale\",\"Portuguese\":\"inteligência artificial\",\n",
    "    \"Dutch\":\"kunstmatige intelligentie\",\"Danish\":\"kunstig intelligens\",\"Swedish\":\"artificiell intelligens\",\n",
    "    \"Norwegian\":\"kunstig intelligens\",\"Finnish\":\"tekoäly\",\"Estonian\":\"tehisintellekt\",\"Latvian\":\"mākslīgais intelekts\",\n",
    "    \"Lithuanian\":\"dirbtinis intelektas\",\"Polish\":\"sztuczna inteligencja\",\"Czech\":\"umělá inteligence\",\n",
    "    \"Slovak\":\"umelá inteligencia\",\"Hungarian\":\"mesterséges intelligencia\",\"Romanian\":\"inteligență artificială\",\n",
    "    \"Bulgarian\":\"изкуствен интелект\",\"Greek\":\"τεχνητή νοημοσύνη\",\"Albanian\":\"inteligjencë artificiale\",\n",
    "    \"Macedonian\":\"вештачка интелигенција\",\"Serbian\":\"вештачка интелигенција\",\"Croatian\":\"umjetna inteligencija\",\n",
    "    \"Bosnian\":\"umjetna inteligencija\",\"Slovenian\":\"umetna inteligenca\",\"Ukrainian\":\"штучний інтелект\",\n",
    "    \"Belarusian\":\"штучны інтэлект\",\"Russian\":\"искусственный интеллект\",\"Icelandic\":\"gervigreind\",\n",
    "    \"Maltese\":\"intelliġenza artifiċjali\",\"Catalan\":\"intel·ligència artificial\",\"Basque\":\"adimen artifiziala\",\n",
    "    \"Galician\":\"intelixencia artificial\",\"Irish\":\"intleacht shaorga\",\"Welsh\":\"deallusrwydd artiffisial\"\n",
    "}\n"
   ]
  },
  {
   "cell_type": "code",
   "execution_count": null,
   "metadata": {
    "ExecuteTime": {
     "end_time": "2025-08-26T11:36:10.052734Z",
     "start_time": "2025-08-26T10:47:05.915422Z"
    }
   },
   "outputs": [],
   "source": [
    "langs, translations = [], []\n",
    "for _, row in eu.iterrows():\n",
    "    url = row.get(\"City_Website\")\n",
    "    if pd.isna(url) or not url:\n",
    "        langs.append(None)\n",
    "        translations.append(None)\n",
    "        continue\n",
    "\n",
    "    code = fetch_lang_from_site(url)\n",
    "    lang_name = language_name_from_code(code) if code else None\n",
    "    langs.append(lang_name)\n",
    "    translations.append(ai_translations.get(lang_name, \"artificial intelligence\"))\n",
    "    time.sleep(0.5)  \n",
    "\n",
    "eu[\"language\"] = langs\n",
    "eu[\"ai_translate\"] = translations"
   ]
  },
  {
   "cell_type": "code",
   "execution_count": null,
   "metadata": {
    "ExecuteTime": {
     "end_time": "2025-08-26T11:52:05.237699Z",
     "start_time": "2025-08-26T11:52:05.218517Z"
    }
   },
   "outputs": [],
   "source": [
    "eu"
   ]
  },
  {
   "cell_type": "code",
   "execution_count": null,
   "metadata": {
    "ExecuteTime": {
     "end_time": "2025-08-26T11:51:53.882565Z",
     "start_time": "2025-08-26T11:51:53.869633Z"
    }
   },
   "outputs": [],
   "source": [
    "eu[\"lang_code\"] = np.nan"
   ]
  },
  {
   "cell_type": "code",
   "execution_count": null,
   "metadata": {
    "ExecuteTime": {
     "end_time": "2025-08-26T12:11:15.233526Z",
     "start_time": "2025-08-26T11:52:11.242497Z"
    }
   },
   "outputs": [],
   "source": [
    "# Mask: has website, but language is None/NaN\n",
    "mask_targets = (\n",
    "    eu[\"City_Website\"].notna()\n",
    "    & (eu[\"City_Website\"].astype(str).str.strip() != \"\")\n",
    "    & (eu[\"language\"].isna() | (eu[\"language\"].astype(str) == \"None\"))\n",
    ")\n",
    "\n",
    "# Iterate only the rows we need to re-check\n",
    "for idx in eu.index[mask_targets]:\n",
    "    url = eu.at[idx, \"City_Website\"]\n",
    "    code = fetch_lang_from_site(url)  # uses your previously defined function\n",
    "    eu.at[idx, \"lang_code\"] = code if code else np.nan\n",
    "    time.sleep(0.5) "
   ]
  },
  {
   "cell_type": "code",
   "execution_count": null,
   "metadata": {
    "ExecuteTime": {
     "end_time": "2025-08-26T13:01:51.281388Z",
     "start_time": "2025-08-26T13:01:51.264330Z"
    }
   },
   "outputs": [],
   "source": [
    "eu.to_csv(\"eu_test.csv\", index=False, encoding=\"utf-8\")"
   ]
  },
  {
   "cell_type": "code",
   "execution_count": null,
   "metadata": {
    "ExecuteTime": {
     "end_time": "2025-08-26T14:16:47.510603Z",
     "start_time": "2025-08-26T14:16:47.463112Z"
    }
   },
   "outputs": [],
   "source": [
    "temp = pd.read_csv(\"eu_checked1.csv\")"
   ]
  },
  {
   "cell_type": "code",
   "execution_count": null,
   "metadata": {
    "ExecuteTime": {
     "end_time": "2025-08-26T14:21:02.564218Z",
     "start_time": "2025-08-26T14:21:02.552300Z"
    }
   },
   "outputs": [],
   "source": [
    "temp.loc[temp[\"Country_Name\"] == \"Russia\", \"language\"] = \"Russian\"\n",
    "temp.loc[temp[\"Country_Name\"] == \"Russia\", \"ai_translate\"] = \"искусственный интеллект\""
   ]
  },
  {
   "cell_type": "code",
   "execution_count": null,
   "metadata": {
    "ExecuteTime": {
     "end_time": "2025-08-26T14:22:55.929790Z",
     "start_time": "2025-08-26T14:22:55.910513Z"
    }
   },
   "outputs": [],
   "source": [
    "temp.to_csv(\"eu_checked2.csv\", index=False, encoding=\"utf-8\")"
   ]
  },
  {
   "cell_type": "code",
   "execution_count": null,
   "metadata": {},
   "outputs": [],
   "source": []
  }
 ],
 "metadata": {
  "kernelspec": {
   "display_name": "Python 3 (ipykernel)",
   "language": "python",
   "name": "python3"
  },
  "language_info": {
   "codemirror_mode": {
    "name": "ipython",
    "version": 3
   },
   "file_extension": ".py",
   "mimetype": "text/x-python",
   "name": "python",
   "nbconvert_exporter": "python",
   "pygments_lexer": "ipython3",
   "version": "3.11.9"
  },
  "toc": {
   "base_numbering": 1,
   "nav_menu": {},
   "number_sections": false,
   "sideBar": true,
   "skip_h1_title": false,
   "title_cell": "Table of Contents",
   "title_sidebar": "Contents",
   "toc_cell": false,
   "toc_position": {},
   "toc_section_display": true,
   "toc_window_display": false
  },
  "varInspector": {
   "cols": {
    "lenName": 16,
    "lenType": 16,
    "lenVar": 40
   },
   "kernels_config": {
    "python": {
     "delete_cmd_postfix": "",
     "delete_cmd_prefix": "del ",
     "library": "var_list.py",
     "varRefreshCmd": "print(var_dic_list())"
    },
    "r": {
     "delete_cmd_postfix": ") ",
     "delete_cmd_prefix": "rm(",
     "library": "var_list.r",
     "varRefreshCmd": "cat(var_dic_list()) "
    }
   },
   "types_to_exclude": [
    "module",
    "function",
    "builtin_function_or_method",
    "instance",
    "_Feature"
   ],
   "window_display": false
  }
 },
 "nbformat": 4,
 "nbformat_minor": 4
}
